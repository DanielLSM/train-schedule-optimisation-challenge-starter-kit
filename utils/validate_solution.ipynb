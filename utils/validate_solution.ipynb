{
 "cells": [
  {
   "cell_type": "markdown",
   "metadata": {
    "collapsed": true
   },
   "source": [
    "# Individual solution validation"
   ]
  },
  {
   "cell_type": "markdown",
   "metadata": {},
   "source": [
    "_Note: For full compatibility, use Python >= 3.6 to run this notebook._"
   ]
  },
  {
   "cell_type": "markdown",
   "metadata": {},
   "source": [
    "This notebook explains how you can evaluate an individual solution to one of the [problem instances](problem_instances) without creating a whole submission.\n",
    "\n",
    "This way, you can quickly and easily check if the solutions you calculated conform the the [business rules](documentation/business_rules.md) and you will also get a score for each solution, telling you how good it, as it will also calculate the [objective value](documentation/business_rules.md#objective-function) of this specific solution.\n",
    "\n",
    "This makes frequent testing and tuning of your algorithm much easier than using the submission process.\n",
    "\n",
    "__However: Please observe a limit of at most one (1) validation per minute in order not to overwhelm the service__"
   ]
  },
  {
   "cell_type": "markdown",
   "metadata": {},
   "source": [
    "## Examples"
   ]
  },
  {
   "cell_type": "markdown",
   "metadata": {},
   "source": [
    "_Note: The following code is also collected in_ [this](utils/validate_solution.py) _script_"
   ]
  },
  {
   "cell_type": "markdown",
   "metadata": {},
   "source": [
    "Setup config:"
   ]
  },
  {
   "cell_type": "code",
   "execution_count": 1,
   "metadata": {},
   "outputs": [],
   "source": [
    "import requests\n",
    "import translate\n",
    "import json\n",
    "from io import StringIO\n",
    "import collections.abc\n",
    "import os,sys,inspect\n",
    "\n",
    "AUTH = ('MartyMcFly', 'Uranium-235')\n",
    "SCENARIO_UPLOAD_ENDPOINT = \"https://fluxer.app.sbb.ch/backend/crowdai-validator/uploadVerkehrsplanFile\"\n",
    "SOLUTION_VALIDATION_ENDPOINT = \"https://fluxer.app.sbb.ch/backend/crowdai-validator/validateFile\""
   ]
  },
  {
   "cell_type": "markdown",
   "metadata": {},
   "source": [
    "Specify the files to use. Validating a solution only makes sense when also specifying which problem instance the solution is intended for. So we specify both the problem instance and the solution. Both must be available as a JSON file."
   ]
  },
  {
   "cell_type": "code",
   "execution_count": 2,
   "metadata": {},
   "outputs": [],
   "source": [
    "currentdir = os.path.dirname(os.path.abspath(inspect.getfile(inspect.currentframe())))\n",
    "parentdir = os.path.dirname(currentdir)\n",
    "\n",
    "scenario = os.path.join(parentdir,'sample_files',\"sample_scenario.json\")\n",
    "solution = os.path.join(parentdir,'sample_files',\"sample_scenario_solution.json\")\n",
    "\n",
    "with open(scenario) as fp:\n",
    "    scenario_content = json.load(fp)"
   ]
  },
  {
   "cell_type": "markdown",
   "metadata": {},
   "source": [
    "We first read the file and send it to the translation. Translation translates the model from English to German, so our Solution Validator can understand it."
   ]
  },
  {
   "cell_type": "code",
   "execution_count": 3,
   "metadata": {},
   "outputs": [],
   "source": [
    "scenario_content = \"\"\n",
    "with open(scenario) as fp:\n",
    "    scenario_content = json.load(fp)\n",
    "\n",
    "scenario_content = translate.translate(scenario_content, translate.translate_to_ger)"
   ]
  },
  {
   "cell_type": "markdown",
   "metadata": {},
   "source": [
    "We can now upload the solution to the service"
   ]
  },
  {
   "cell_type": "code",
   "execution_count": 4,
   "metadata": {},
   "outputs": [
    {
     "name": "stdout",
     "output_type": "stream",
     "text": [
      "upload finished with status <Response [200]>\n"
     ]
    }
   ],
   "source": [
    "scenario_file = {\"verkehrsplan\": StringIO(json.dumps(scenario_content))}\n",
    "upload_response = requests.post(SCENARIO_UPLOAD_ENDPOINT, files=scenario_file, auth=AUTH)\n",
    "print(f\"upload finished with status {upload_response}\")"
   ]
  },
  {
   "cell_type": "markdown",
   "metadata": {},
   "source": [
    "We now read the solution file and translate it..."
   ]
  },
  {
   "cell_type": "code",
   "execution_count": 5,
   "metadata": {},
   "outputs": [],
   "source": [
    "solution_content = \"\"\n",
    "with open(solution) as fp:\n",
    "    solution_content = json.load(fp)\n",
    "\n",
    "solution_content = translate.translate(solution_content, translate.translate_to_ger)"
   ]
  },
  {
   "cell_type": "markdown",
   "metadata": {},
   "source": [
    "... in order to upload and validate the solution. The response from the validation is then translated again back into English"
   ]
  },
  {
   "cell_type": "code",
   "execution_count": 6,
   "metadata": {},
   "outputs": [
    {
     "name": "stdout",
     "output_type": "stream",
     "text": [
      "validation finished with status <Response [200]>\n"
     ]
    }
   ],
   "source": [
    "solution_file = {\"loesung\": StringIO(json.dumps(solution_content))}\n",
    "validation_response = requests.post(SOLUTION_VALIDATION_ENDPOINT, files=solution_file, auth=AUTH)\n",
    "print(f\"validation finished with status {validation_response}\")\n",
    "\n",
    "response = validation_response.json()\n",
    "validation_result = translate.translate(response, translate.translate_to_eng)"
   ]
  },
  {
   "cell_type": "markdown",
   "metadata": {},
   "source": [
    "Inspect the response. The rule violations are collected in the attribute `business_rules_violations`. They are grouped into `warnings` and `errors`\n",
    "\n",
    "* `warnings` mean your solution violates some non-essential business rules. A common such case is if an event is scheduled too late (i.e. a delay). Solutions with warnings but no errors are accepted, but they may receive an imperfect score.\n",
    "* `errors` means the solution violates an essential business rule. Solutions with errors are not accepted and scored just like a missing solution.\n",
    "\n",
    "_Note:_ Some of the text might still be in German. Please use Google Translate in order to get some understanding."
   ]
  },
  {
   "cell_type": "code",
   "execution_count": 7,
   "metadata": {},
   "outputs": [
    {
     "name": "stdout",
     "output_type": "stream",
     "text": [
      "There are 0 warnings and 0 errors\n",
      "\n",
      "Warnings:\n",
      "Errors:\n"
     ]
    }
   ],
   "source": [
    "warnings = [x for x in validation_result[\"business_rules_violations\"] if x[\"severity\"] == \"warning\"]\n",
    "errors = [x for x in validation_result[\"business_rules_violations\"] if x[\"severity\"] == \"error\"]\n",
    "\n",
    "print(f\"There are {len(warnings)} warnings and {len(errors)} errors\" + \"\\n\")\n",
    "\n",
    "print(\"Warnings:\")\n",
    "for x in warnings:\n",
    "    print(x[\"message\"] + '\\n')\n",
    "        \n",
    "print(\"Errors:\")\n",
    "for x in errors:\n",
    "    print(x[\"message\"] + '\\n')\n"
   ]
  },
  {
   "cell_type": "markdown",
   "metadata": {},
   "source": [
    "### Example: Warning \"wrong Hash in solution\""
   ]
  },
  {
   "cell_type": "markdown",
   "metadata": {},
   "source": [
    "The following solution has a wrong solution hash. This causes a `warning`, but this particular warning is irrelevant. Also, the solution is not penalized because of this. The `objective_value` of the solution is zero, which is perfect.\n",
    "\n",
    "__you may safely ignore all solution-hash warnings in your solutions__"
   ]
  },
  {
   "cell_type": "code",
   "execution_count": 8,
   "metadata": {},
   "outputs": [
    {
     "name": "stdout",
     "output_type": "stream",
     "text": [
      "validation finished with status <Response [200]> \n",
      "\n",
      "There are 1 warnings and 0 errors\n",
      "\n",
      "Warnings:\n",
      "Lösung mit VP-Label \"SBB_challenge_sample_scenario_with_routing_alternatives\" und VP-Hash \"-1254734547\" hat einen falschen Hash! Hash: 161193081, erwartet: 1538680897\n",
      "\n",
      "Errors:\n"
     ]
    }
   ],
   "source": [
    "solution = os.path.join(parentdir,'sample_files',\"sample_scenario_solution_warningHash.json\")\n",
    "\n",
    "with open(solution) as fp:\n",
    "    solution_content = json.load(fp)\n",
    "\n",
    "solution_content = translate.translate(solution_content, translate.translate_to_ger)\n",
    "solution_file = {\"loesung\": StringIO(json.dumps(solution_content))}\n",
    "validation_response = requests.post(SOLUTION_VALIDATION_ENDPOINT, files=solution_file, auth=AUTH)\n",
    "print(f\"validation finished with status {validation_response} \\n\")\n",
    "\n",
    "response = validation_response.json()\n",
    "validation_result = translate.translate(response, translate.translate_to_eng)\n",
    "\n",
    "warnings = [x for x in validation_result[\"business_rules_violations\"] if x[\"severity\"] == \"warning\"]\n",
    "errors = [x for x in validation_result['business_rules_violations'] if x['severity'] == 'error']\n",
    "\n",
    "print(f\"There are {len(warnings)} warnings and {len(errors)} errors\" + \"\\n\")\n",
    "\n",
    "print(\"Warnings:\")\n",
    "for x in warnings:\n",
    "    print(x[\"message\"] + '\\n')\n",
    "        \n",
    "print(\"Errors:\")\n",
    "for x in errors:\n",
    "    print(x[\"message\"] + '\\n')"
   ]
  },
  {
   "cell_type": "markdown",
   "metadata": {},
   "source": [
    "### Example: Warning \"delayed arrival\"\n",
    "The following solution again has a wrong solution hash, but again we ignore it.\n",
    "\n",
    "__More importantly:__ Train 111 should arrive no later than 8:50:00 according to the [problem instance](sample_files/sample_scenario.json), but solution schedules it only at 8:51:08, which is 1.13 minutes too late. For this reason the solution is penalized with 1.13 `minutes_of_delay`, which is also its total `objective_value` (you can read up how the objective function is calculated [here](documentation/business_rules.md#objective-function))."
   ]
  },
  {
   "cell_type": "code",
   "execution_count": 9,
   "metadata": {},
   "outputs": [
    {
     "name": "stdout",
     "output_type": "stream",
     "text": [
      "validation finished with status <Response [200]> \n",
      "\n",
      "There are 2 warnings and 0 errors\n",
      "\n",
      "Warnings:\n",
      "Lösung mit VP-Label \"SBB_challenge_sample_scenario_with_routing_alternatives\" und VP-Hash \"-1254734547\" hat einen falschen Hash! Hash: 1611930817, erwartet: 2080299070\n",
      "\n",
      "Austrittszeit 08:51:08 nach ausMax 08:50 für Zugfahrtabschnitt mit FAB-Id \"111#14\" und Abschnittskennzeichen \"C\" in fA \"111\"\n",
      "\n",
      "Errors:\n"
     ]
    }
   ],
   "source": [
    "solution = os.path.join(parentdir,'sample_files',\"sample_scenario_solution_delayed_arrival.json\")\n",
    "\n",
    "with open(solution) as fp:\n",
    "    solution_content = json.load(fp)\n",
    "\n",
    "solution_content = translate.translate(solution_content, translate.translate_to_ger)\n",
    "solution_file = {\"loesung\": StringIO(json.dumps(solution_content))}\n",
    "validation_response = requests.post(SOLUTION_VALIDATION_ENDPOINT, files=solution_file, auth=AUTH)\n",
    "print(f\"validation finished with status {validation_response} \\n\")\n",
    "\n",
    "response = validation_response.json()\n",
    "validation_result = translate.translate(response, translate.translate_to_eng)\n",
    "\n",
    "warnings = [x for x in validation_result[\"business_rules_violations\"] if x[\"severity\"] == \"warning\"]\n",
    "errors = [x for x in validation_result['business_rules_violations'] if x['severity'] == 'error']\n",
    "\n",
    "print(f\"There are {len(warnings)} warnings and {len(errors)} errors\" + \"\\n\")\n",
    "\n",
    "print(\"Warnings:\")\n",
    "for x in warnings:\n",
    "    print(x[\"message\"] + '\\n')\n",
    "        \n",
    "print(\"Errors:\")\n",
    "for x in errors:\n",
    "    print(x[\"message\"] + '\\n')\n"
   ]
  },
  {
   "cell_type": "markdown",
   "metadata": {},
   "source": [
    "### Example: Errors \"early departure\" and \"resource occupation conflict\""
   ]
  },
  {
   "cell_type": "markdown",
   "metadata": {},
   "source": [
    "This solution has actual _errors_. It will _not_ be accepted as a feasible solution by the grader. There are three errors:\n",
    "* The service intentions 111 and 113 occupy both occupy resource 'AB' at the same time, namely\n",
    " - 111 on its route section with sequence number 3 (route section id '111#3') from 07:50:00 to 08:20:53\n",
    " - 113 on its route section number 1 from 07:50:00 to 07:50:53\n",
    " \n",
    "* The same service intentions also conflict each other on route sections 111#3 and 113#4. This is listed as a separate conflict\n",
    "\n",
    "* Service intention 111 enters route section 111#3 (its first route section) at 07:50:00. This is earlier than the `earliest entry` of 08:20:00 specified in the service intention."
   ]
  },
  {
   "cell_type": "code",
   "execution_count": 10,
   "metadata": {},
   "outputs": [
    {
     "name": "stdout",
     "output_type": "stream",
     "text": [
      "validation finished with status <Response [200]> \n",
      "\n",
      "There are 1 warnings and 3 errors\n",
      "\n",
      "Warnings:\n",
      "Lösung mit VP-Label \"SBB_challenge_sample_scenario_with_routing_alternatives\" und VP-Hash \"-1254734547\" hat einen falschen Hash! Hash: 1611930817, erwartet: 460224476\n",
      "\n",
      "Errors:\n",
      "Belegungskonflikt (Sperrtreppe), Freigabezeit[s]: 30, Ressource: \"AB\", fAs: \"111\" / \"113\", FABs: \"111#3\" / \"113#1\", Zeiten ein-aus: 07:50-08:20:53 / 07:50-07:50:53\n",
      "\n",
      "Belegungskonflikt (Sperrtreppe), Freigabezeit[s]: 30, Ressource: \"AB\", fAs: \"111\" / \"113\", FABs: \"111#3\" / \"113#4\", Zeiten ein-aus: 07:50-08:20:53 / 07:50:53-07:51:25\n",
      "\n",
      "Eintrittszeit 07:50 vor einMin 08:20 für Zugfahrtabschnitt mit FAB-Id \"111#3\" und Abschnittskennzeichen \"A\" in fA \"111\"\n",
      "\n"
     ]
    }
   ],
   "source": [
    "solution = os.path.join(parentdir,'sample_files',\"sample_scenario_solution_early_entry.json\")\n",
    "\n",
    "with open(solution) as fp:\n",
    "    solution_content = json.load(fp)\n",
    "\n",
    "solution_content = translate.translate(solution_content, translate.translate_to_ger)\n",
    "solution_file = {\"loesung\": StringIO(json.dumps(solution_content))}\n",
    "validation_response = requests.post(SOLUTION_VALIDATION_ENDPOINT, files=solution_file, auth=AUTH)\n",
    "print(f\"validation finished with status {validation_response} \\n\")\n",
    "\n",
    "response = validation_response.json()\n",
    "validation_result = translate.translate(response, translate.translate_to_eng)\n",
    "\n",
    "warnings = [x for x in validation_result[\"business_rules_violations\"] if x[\"severity\"] == \"warning\"]\n",
    "errors = [x for x in validation_result['business_rules_violations'] if x['severity'] == 'error']\n",
    "\n",
    "print(f\"There are {len(warnings)} warnings and {len(errors)} errors\" + \"\\n\")\n",
    "\n",
    "print(\"Warnings:\")\n",
    "for x in warnings:\n",
    "    print(x[\"message\"] + '\\n')\n",
    "        \n",
    "print(\"Errors:\")\n",
    "for x in errors:\n",
    "    print(x[\"message\"] + '\\n')"
   ]
  }
 ],
 "metadata": {
  "kernelspec": {
   "display_name": "Python 3",
   "language": "python",
   "name": "python3"
  },
  "language_info": {
   "codemirror_mode": {
    "name": "ipython",
    "version": 3
   },
   "file_extension": ".py",
   "mimetype": "text/x-python",
   "name": "python",
   "nbconvert_exporter": "python",
   "pygments_lexer": "ipython3",
   "version": "3.6.5"
  }
 },
 "nbformat": 4,
 "nbformat_minor": 1
}
