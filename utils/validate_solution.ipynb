{
 "cells": [
  {
   "cell_type": "markdown",
   "metadata": {
    "collapsed": true
   },
   "source": [
    "# Individual solution validation via the REST-API of the Solution Validator Service"
   ]
  },
  {
   "cell_type": "markdown",
   "metadata": {},
   "source": [
    "_Note: For full compatibility, use Python >= 3.6 to run this notebook._"
   ]
  },
  {
   "cell_type": "markdown",
   "metadata": {},
   "source": [
    "The REST-API of the Solution Validator can be used to check\n",
    "* whether a solution respects all required [business rules](documentation/business_rules.md) (and if not, where exactly the violoations are)\n",
    "* the [objective value](documentation/business_rules.md#objective-function) of a solution\n",
    "\n",
    "It thus provides a shortcut to the complete submission-procedure (where you are required to submit a full set of solutions for all problem instances) to validate individual solutions.\n",
    "\n",
    "This makes frequent testing and tuning of your algorithm much easiere.\n",
    "\n",
    "_However: Please observe a limit of at most one (1) validation per minute in order not to overwhelm the service_"
   ]
  },
  {
   "cell_type": "markdown",
   "metadata": {},
   "source": [
    "## Examples"
   ]
  },
  {
   "cell_type": "markdown",
   "metadata": {},
   "source": [
    "_Note: The following code is also collected in_ [this](validate_solution.py) _script_"
   ]
  },
  {
   "cell_type": "markdown",
   "metadata": {},
   "source": [
    "Setup config:"
   ]
  },
  {
   "cell_type": "code",
   "execution_count": 3,
   "metadata": {},
   "outputs": [],
   "source": [
    "import requests\n",
    "import translate\n",
    "import json\n",
    "from io import StringIO\n",
    "import collections.abc\n",
    "import os,sys,inspect\n",
    "\n",
    "AUTH = ('MartyMcFly', 'Uranium-235')\n",
    "SCENARIO_UPLOAD_ENDPOINT = \"https://fluxer.app.sbb.ch/backend/crowdai-validator/uploadVerkehrsplanFile\"\n",
    "SOLUTION_VALIDATION_ENDPOINT = \"https://fluxer.app.sbb.ch/backend/crowdai-validator/validateFile\""
   ]
  },
  {
   "cell_type": "markdown",
   "metadata": {},
   "source": [
    "Specify the files to use. Validating a solution only makes sense when also specifying which problem instance the solution is intended for. So we specify both the problem instance and the solution. Both must be available as a JSON file."
   ]
  },
  {
   "cell_type": "code",
   "execution_count": 20,
   "metadata": {},
   "outputs": [
    {
     "name": "stdout",
     "output_type": "stream",
     "text": [
      "C:\\devsbb\\TMS\\train-schedule-optimisation-challenge-starter-kit\\utils\n"
     ]
    }
   ],
   "source": [
    "currentdir = os.path.dirname(os.path.abspath(inspect.getfile(inspect.currentframe())))\n",
    "parentdir = os.path.dirname(currentdir)\n",
    "\n",
    "scenario = os.path.join(parentdir,'sample_files',\"sample_scenario.json\")\n",
    "solution = os.path.join(parentdir,'sample_files',\"sample_scenario_solution.json\")\n",
    "\n",
    "scenario_content = \"\"\n",
    "with open(scenario) as fp:\n",
    "    scenario_content = json.load(fp)"
   ]
  },
  {
   "cell_type": "markdown",
   "metadata": {},
   "source": [
    "We first read the file and send it to the translation. Translation translates the model from English to German. "
   ]
  },
  {
   "cell_type": "code",
   "execution_count": 13,
   "metadata": {},
   "outputs": [],
   "source": [
    "scenario_content = \"\"\n",
    "with open(scenario) as fp:\n",
    "    scenario_content = json.load(fp)\n",
    "\n",
    "scenario_content = translate.translate(scenario_content, translate.translate_to_ger)"
   ]
  },
  {
   "cell_type": "markdown",
   "metadata": {},
   "source": [
    "We can now upload the solution to the service"
   ]
  },
  {
   "cell_type": "code",
   "execution_count": 14,
   "metadata": {},
   "outputs": [
    {
     "name": "stdout",
     "output_type": "stream",
     "text": [
      "upload finished with status <Response [200]>\n"
     ]
    }
   ],
   "source": [
    "scenario_file = {\"verkehrsplan\": StringIO(json.dumps(scenario_content))}\n",
    "upload_response = requests.post(SCENARIO_UPLOAD_ENDPOINT, files=scenario_file, auth=AUTH)\n",
    "print(f\"upload finished with status {upload_response}\")"
   ]
  },
  {
   "cell_type": "markdown",
   "metadata": {},
   "source": [
    "We now read the solution file and translate it..."
   ]
  },
  {
   "cell_type": "code",
   "execution_count": 15,
   "metadata": {},
   "outputs": [],
   "source": [
    "solution_content = \"\"\n",
    "with open(solution) as fp:\n",
    "    solution_content = json.load(fp)\n",
    "\n",
    "solution_content = translate.translate(solution_content, translate.translate_to_ger)"
   ]
  },
  {
   "cell_type": "markdown",
   "metadata": {},
   "source": [
    "... in order to upload and validate the solution. The response from the validation is then translated again back into English"
   ]
  },
  {
   "cell_type": "code",
   "execution_count": 16,
   "metadata": {},
   "outputs": [
    {
     "name": "stdout",
     "output_type": "stream",
     "text": [
      "validation finished with status <Response [200]>\n"
     ]
    }
   ],
   "source": [
    "solution_file = {\"loesung\": StringIO(json.dumps(solution_content))}\n",
    "validation_response = requests.post(SOLUTION_VALIDATION_ENDPOINT, files=solution_file, auth=AUTH)\n",
    "print(f\"validation finished with status {validation_response}\")\n",
    "\n",
    "response = validation_response.json()\n",
    "validation_result = translate.translate(response, translate.translate_to_eng)"
   ]
  },
  {
   "cell_type": "markdown",
   "metadata": {},
   "source": [
    "Inspect the response. The rule violations are collected in the attribute `business_rules_violations`. Some of the strings might still be in German. Please use Google Translate in order to get some undestanding."
   ]
  },
  {
   "cell_type": "code",
   "execution_count": 17,
   "metadata": {},
   "outputs": [
    {
     "name": "stdout",
     "output_type": "stream",
     "text": [
      "{'business_rules_violations': [{'severity': 'warning', 'message': 'Lösung mit VP-Label \"SBB_challenge_sample_scenario_with_routing_alternatives\" und VP-Hash \"-1254734547\" hat einen falschen Hash! Hash: 1611930817, erwartet: 1538680897'}], 'solution_hash': 1611930817, 'objective_value': 0.0, 'details': {'minutes_of_delay': '0.0', 'route_penalty': '0.0'}, 'request_uuid': None}\n"
     ]
    }
   ],
   "source": [
    "print(validation_result)\n",
    "\n",
    "warnings = [x for x in validation_result[\"business_rules_violations\"] if x[\"severity\"] == \"warning\"]\n",
    "errors = [x for x in validation_result[\"business_rules_violations\"] if x[\"severity\"] == \"error\"]"
   ]
  },
  {
   "cell_type": "markdown",
   "metadata": {},
   "source": [
    "### Example: Warning \"wrong Hash in solution\""
   ]
  },
  {
   "cell_type": "markdown",
   "metadata": {},
   "source": [
    "The following solution has a wrong solution hash. This causes a warning, but it is irrelevant. Also, the solution is not penalized because of this. objValue is zero.\n",
    "\n",
    "__you may safely ignore all solution-hash warnings in your solutions__"
   ]
  },
  {
   "cell_type": "code",
   "execution_count": 7,
   "metadata": {},
   "outputs": [],
   "source": [
    "solution = \"samples/sample_scenario_simple_solution_warningHash.json\"\n",
    "solution_file = {\"loesung\": open(solution, 'rb')}\n",
    "validation_response = requests.post(SOLUTION_VALIDATION_ENDPOINT, files=solution_file, auth=AUTH)\n",
    "validation_result = validation_response.json()\n",
    "\n",
    "assert len(validation_result[\"regelVerletzungen\"]) == 1\n"
   ]
  },
  {
   "cell_type": "markdown",
   "metadata": {},
   "source": [
    "### Example: Warning \"delayed arrival\" and \"wrong Hash in solution\"\n",
    "The following solution has a wrong solution hash. This causes a warning, but it is irrelevant. \n",
    "Train 111 should arrive no later than 8:50:00, but solution return 8:51:08, which is 1.13 minutes too late. For this reason the solution.\n",
    "\n",
    "__you may safely ignore all solution-hash warnings in your solutions__"
   ]
  },
  {
   "cell_type": "code",
   "execution_count": 21,
   "metadata": {},
   "outputs": [
    {
     "name": "stdout",
     "output_type": "stream",
     "text": [
      "validation finished with status <Response [200]>\n",
      "{'business_rules_violations': [{'message': 'Lösung mit VP-Label '\n",
      "                                           '\"SBB_challenge_sample_scenario_with_routing_alternatives\" '\n",
      "                                           'und VP-Hash \"-1254734547\" hat '\n",
      "                                           'einen falschen Hash! Hash: '\n",
      "                                           '1611930817, erwartet: 2080299070',\n",
      "                                'severity': 'warning'},\n",
      "                               {'message': 'Austrittszeit 08:51:08 nach ausMax '\n",
      "                                           '08:50 für Zugfahrtabschnitt mit '\n",
      "                                           'FAB-Id \"111#14\" und '\n",
      "                                           'Abschnittskennzeichen \"C\" in fA '\n",
      "                                           '\"111\"',\n",
      "                                'severity': 'warning'}],\n",
      " 'details': {'minutes_of_delay': '1.1333333', 'route_penalty': '0.0'},\n",
      " 'objective_value': 1.1333333,\n",
      " 'request_uuid': None,\n",
      " 'solution_hash': 1611930817}\n"
     ]
    }
   ],
   "source": [
    "solution = os.path.join(parentdir,'sample_files',\"sample_scenario_solution_delayed_arrival.json\")\n",
    "\n",
    "solution_content = \"\"\n",
    "with open(solution) as fp:\n",
    "    solution_content = json.load(fp)\n",
    "\n",
    "solution_content = translate.translate(solution_content, translate.translate_to_ger)\n",
    "solution_file = {\"loesung\": StringIO(json.dumps(solution_content))}\n",
    "validation_response = requests.post(SOLUTION_VALIDATION_ENDPOINT, files=solution_file, auth=AUTH)\n",
    "print(f\"validation finished with status {validation_response}\")\n",
    "\n",
    "response = validation_response.json()\n",
    "validation_result = translate.translate(response, translate.translate_to_eng)\n",
    "\n",
    "from pprint import pprint\n",
    "pprint(validation_result)"
   ]
  },
  {
   "cell_type": "markdown",
   "metadata": {},
   "source": [
    "### Example: Errors \"early departure\" and \"resource occupation conflict\""
   ]
  },
  {
   "cell_type": "markdown",
   "metadata": {},
   "source": [
    "This solution has actual _errors_. It will _not_ be accepted as a feasible solution by the grader. There are two errors:\n",
    "* The service intentions \"EC/163-001/PF-SA\" and \"IC/913-001/PF-SA\" overtake each other on the route section PF_SA/IC#17. This (obviously) violates the separation constraints for the associated resource \"MELS_SA\"\n",
    "* Service Intention EC/163-001/PF-SA enters into route section PF_SA/IC#1 at 09:00:30. This is _before_ the earliest allowed entry time of 09:02:30.\n",
    "\n",
    "Note: In addition, there is also a warning because train IC/913-001/PF-SA arrives too late."
   ]
  },
  {
   "cell_type": "code",
   "execution_count": 8,
   "metadata": {},
   "outputs": [
    {
     "name": "stdout",
     "output_type": "stream",
     "text": [
      "There are 2 errors\n",
      "\n",
      "Belegungskonflikt (Zugfolgezeit gleiche Richtung: MELS_SA), Zugfolgezeit[s]: 180, Ressource: \"MELS_SA\", fAs: \"EC/163-001/PF-SA\" / \"IC/913-001/PF-SA\", FABs: \"PF_SA/IC#17\" / \"PF_SA/IC#17\", Zeiten ein-aus: 09:33:36.600-09:35:39 / 09:00:36.600-09:40:39\n",
      "\n",
      "Eintrittszeit 09:00:30 vor einMin 09:02:30 für Zugfahrtabschnitt mit FAB-Id \"PF_SA/IC#1\" und Abschnittskennzeichen \"PF\" in fA \"EC/163-001/PF-SA\"\n",
      "\n"
     ]
    }
   ],
   "source": [
    "solution = \"samples/sample_scenario_simple_solution_errors.json\"\n",
    "solution_file = {\"loesung\": open(solution, 'rb')}\n",
    "validation_response = requests.post(SOLUTION_VALIDATION_ENDPOINT, files=solution_file, auth=AUTH)\n",
    "validation_result = validation_response.json()\n",
    "errors = [x for x in validation_result['regelVerletzungen'] if x['severity'] == 'error']\n",
    "\n",
    "print(f\"There are {len(errors)} errors\" + \"\\n\")\n",
    "\n",
    "for x in validation_result[\"regelVerletzungen\"]:\n",
    "    if x[\"severity\"] == 'error':\n",
    "        print(x[\"message\"] + '\\n')"
   ]
  },
  {
   "cell_type": "code",
   "execution_count": null,
   "metadata": {},
   "outputs": [],
   "source": []
  },
  {
   "cell_type": "code",
   "execution_count": null,
   "metadata": {},
   "outputs": [],
   "source": []
  },
  {
   "cell_type": "code",
   "execution_count": null,
   "metadata": {},
   "outputs": [],
   "source": []
  }
 ],
 "metadata": {
  "kernelspec": {
   "display_name": "Python 3",
   "language": "python",
   "name": "python3"
  },
  "language_info": {
   "codemirror_mode": {
    "name": "ipython",
    "version": 3
   },
   "file_extension": ".py",
   "mimetype": "text/x-python",
   "name": "python",
   "nbconvert_exporter": "python",
   "pygments_lexer": "ipython3",
   "version": "3.6.0"
  }
 },
 "nbformat": 4,
 "nbformat_minor": 1
}
