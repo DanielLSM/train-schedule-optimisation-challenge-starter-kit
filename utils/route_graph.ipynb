{
 "cells": [
  {
   "cell_type": "markdown",
   "metadata": {
    "collapsed": true
   },
   "source": [
    "# Construction of Route Graphs"
   ]
  },
  {
   "cell_type": "markdown",
   "metadata": {},
   "source": [
    "**************************************\n",
    "This notebook walks you through the code in the [route_graph.py](https://gitlab.crowdai.org/SBB/train-schedule-optimisation-challenge-starter-kit/blob/master/utils/route_graph.py) script. It contains code to build directed graphs in the [networkx](https://networkx.github.io/) package from the `routes` in the problem instances. \n",
    "\n",
    "This should help you to better understand the `routes` and how to work with them. It may also prove useful in your solving algorithm, such as for finding zero-penalty paths or the like. If you don't like to work with the networkx package, you can copy the logic from the functions `from_node_id` and `to_node_id`, which assign the node id's, to the graph library of your choice.\n",
    "\n",
    "To run the following code, please ensure that you use Pyhton >= 3.6 and first install the following Python libraries:\n",
    "- networkx\n",
    "- matplotlib\n",
    "**************************************"
   ]
  },
  {
   "cell_type": "markdown",
   "metadata": {},
   "source": [
    "Import libraries"
   ]
  },
  {
   "cell_type": "code",
   "execution_count": 1,
   "metadata": {},
   "outputs": [],
   "source": [
    "import json\n",
    "import time\n",
    "import networkx as nx\n",
    "import matplotlib.pyplot as plt"
   ]
  },
  {
   "cell_type": "markdown",
   "metadata": {},
   "source": [
    "This function returns \"from\"-node id for a given `route_section`. The crucial point is that nodes with common `route_alternative_marker`s are identified as the same node in the graph."
   ]
  },
  {
   "cell_type": "code",
   "execution_count": 2,
   "metadata": {},
   "outputs": [],
   "source": [
    "def from_node_id(route_path, route_section, index_in_path):\n",
    "    if \"route_alternative_marker_at_entry\" in route_section.keys() and \\\n",
    "            route_section[\"route_alternative_marker_at_entry\"] is not None and \\\n",
    "            len(route_section[\"route_alternative_marker_at_entry\"]) > 0:\n",
    "                return \"(\" + str(route_section[\"route_alternative_marker_at_entry\"][0]) + \")\"\n",
    "    else:\n",
    "        if index_in_path == 0:  # can only get here if this node is a very beginning of a route\n",
    "            return \"(\" + str(route_section[\"sequence_number\"]) + \"_beginning)\"\n",
    "        else:\n",
    "            return \"(\" + (str(route_path[\"route_sections\"][index_in_path - 1][\"sequence_number\"]) + \"->\" +\n",
    "                          str(route_section[\"sequence_number\"])) + \")\""
   ]
  },
  {
   "cell_type": "markdown",
   "metadata": {},
   "source": [
    "This function returns \"to\"-node id for a given `route_section`"
   ]
  },
  {
   "cell_type": "code",
   "execution_count": 3,
   "metadata": {},
   "outputs": [],
   "source": [
    "def to_node_id(route_path, route_section, index_in_path):\n",
    "    if \"route_alternative_marker_at_exit\" in route_section.keys() and \\\n",
    "            route_section[\"route_alternative_marker_at_exit\"] is not None and \\\n",
    "            len(route_section[\"route_alternative_marker_at_exit\"]) > 0:\n",
    "\n",
    "                return \"(\" + str(route_section[\"route_alternative_marker_at_exit\"][0]) + \")\"\n",
    "    else:\n",
    "        if index_in_path == (len(route_path[\"route_sections\"]) - 1): # meaning this node is a very end of a route\n",
    "            return \"(\" + str(route_section[\"sequence_number\"]) + \"_end\" + \")\"\n",
    "        else:\n",
    "            return \"(\" + (str(route_section[\"sequence_number\"]) + \"->\" +\n",
    "                          str(route_path[\"route_sections\"][index_in_path + 1][\"sequence_number\"])) + \")\""
   ]
  },
  {
   "cell_type": "markdown",
   "metadata": {},
   "source": [
    "## Example\n",
    "We build the route graphs for the two routes in the Challenge sample_instance.\n",
    "\n",
    "For large graphs, you probably want to deactivate the printint output.\n"
   ]
  },
  {
   "cell_type": "code",
   "execution_count": 4,
   "metadata": {},
   "outputs": [
    {
     "name": "stdout",
     "output_type": "stream",
     "text": [
      "\n",
      "Constructing route graph for route 111\n",
      "Adding Edge from (1_beginning) to (M1) with sequence number 1\n",
      "Adding Edge from (M1) to (4->5) with sequence number 4\n",
      "Adding Edge from (4->5) to (M2) with sequence number 5\n",
      "Adding Edge from (M2) to (M3) with sequence number 6\n",
      "Adding Edge from (M3) to (10->13) with sequence number 10\n",
      "Adding Edge from (10->13) to (M4) with sequence number 13\n",
      "Adding Edge from (M4) to (14_end) with sequence number 14\n",
      "Adding Edge from (2_beginning) to (M1) with sequence number 2\n",
      "Adding Edge from (3_beginning) to (M1) with sequence number 3\n",
      "Adding Edge from (M2) to (7->8) with sequence number 7\n",
      "Adding Edge from (7->8) to (8->9) with sequence number 8\n",
      "Adding Edge from (8->9) to (9_end) with sequence number 9\n",
      "Adding Edge from (M3) to (11->12) with sequence number 11\n",
      "Adding Edge from (11->12) to (M4) with sequence number 12\n",
      "\n",
      "Constructing route graph for route 113\n",
      "Adding Edge from (1_beginning) to (M1) with sequence number 1\n",
      "Adding Edge from (M1) to (4->5) with sequence number 4\n",
      "Adding Edge from (4->5) to (M2) with sequence number 5\n",
      "Adding Edge from (M2) to (M3) with sequence number 6\n",
      "Adding Edge from (M3) to (10->13) with sequence number 10\n",
      "Adding Edge from (10->13) to (M4) with sequence number 13\n",
      "Adding Edge from (M4) to (14_end) with sequence number 14\n",
      "Adding Edge from (2_beginning) to (M1) with sequence number 2\n",
      "Adding Edge from (3_beginning) to (M1) with sequence number 3\n",
      "Adding Edge from (M2) to (7->8) with sequence number 7\n",
      "Adding Edge from (7->8) to (8->9) with sequence number 8\n",
      "Adding Edge from (8->9) to (9_end) with sequence number 9\n",
      "Adding Edge from (M3) to (11->12) with sequence number 11\n",
      "Adding Edge from (11->12) to (M4) with sequence number 12\n",
      "Finished building fahrweg-graphen in 0.004601240158081055 seconds\n"
     ]
    }
   ],
   "source": [
    "scenario = \"../sample_files/sample_scenario.json\"  # adjust path to the sample instance if it is not located there\n",
    "with open(scenario) as fp:\n",
    "    scenario = json.load(fp)\n",
    "    \n",
    "start_time = time.time()\n",
    "\n",
    "# now build the graph. Nodes are called \"previous_FAB -> next_FAB\" within lineare abschnittsfolgen and \"AK\" if\n",
    "# there is an Abschnittskennzeichen 'AK' on it\n",
    "route_graphs = dict()\n",
    "for route in scenario[\"routes\"]:\n",
    "    \n",
    "    print(f\"\\nConstructing route graph for route {route['id']}\")\n",
    "    # set global graph settings\n",
    "    G = nx.DiGraph(route_id = route[\"id\"], name=\"Route-Graph for route \"+str(route[\"id\"]))\n",
    "\n",
    "    # add edges with data contained in the preprocessed graph\n",
    "    for path in route[\"route_paths\"]:\n",
    "        for (i, route_section) in enumerate(path[\"route_sections\"]):\n",
    "            sn = route_section['sequence_number']\n",
    "            print(\"Adding Edge from {} to {} with sequence number {}\".format(from_node_id(path, route_section, i), to_node_id(path, route_section, i), sn))\n",
    "\n",
    "            G.add_edge(from_node_id(path, route_section, i),\n",
    "                       to_node_id(path, route_section, i),\n",
    "                       sequence_number=sn)\n",
    "\n",
    "    route_graphs[route[\"id\"]] = G\n",
    "\n",
    "print(\"Finished building fahrweg-graphen in {} seconds\".format(str(time.time() - start_time)))"
   ]
  },
  {
   "cell_type": "markdown",
   "metadata": {},
   "source": [
    "You can try to visualize the graph. Plotting directly from networkx is unfortunately not be as easy to unterstand. This is the reason for outputing graphml files which will allow you to visualize the graph in a tool of your choice."
   ]
  },
  {
   "cell_type": "code",
   "execution_count": 5,
   "metadata": {},
   "outputs": [
    {
     "data": {
      "image/png": "[encoded data removed]",
      "text/plain": [
       "<Figure size 432x288 with 1 Axes>"
      ]
     },
     "metadata": {},
     "output_type": "display_data"
    }
   ],
   "source": [
    "route_graph = route_graphs[111]\n",
    "\n",
    "for node in route_graph.nodes():\n",
    "    route_graph.node[node]['label'] = node\n",
    "\n",
    "edge_labels = {}\n",
    "for node1, node2, data in route_graph.edges(data=True):\n",
    "    edge_labels[(node1, node2)] = data['sequence_number'] \n",
    "\n",
    "for edge in route_graph.edges():\n",
    "    route_graph.edges[edge]['label'] = edge_labels[edge]\n",
    "\n",
    "# export as graphML file, see below\n",
    "nx.write_graphml(route_graph, \"graph-111\"+\".graphml\")\n",
    "\n",
    "# draw directly from networkx\n",
    "pos = nx.spring_layout(route_graph)\n",
    "nx.draw(route_graph, pos, edge_color='black', width=1, linewidths=1, node_size=500, node_color='pink', alpha=0.9)\n",
    "nx.draw_networkx_edge_labels(route_graph,pos,edge_labels=edge_labels,font_color='red')\n",
    "plt.show()"
   ]
  },
  {
   "cell_type": "markdown",
   "metadata": {},
   "source": [
    "However, you can also export it as graphML and use a visualization tool to render it. For example, this what it looks like after processing the graphml with [yED](https://www.yworks.com/products/yed/download). Labels on the edges represent the sequence_number. \n",
    "\n",
    "_Note_ On Gitlab, the Notebook not render the image properly. If you can't see anything below, please have a look at [route_graph.md](route_graph.md)\n",
    "\n",
    "![](https://gitlab.crowdai.org/SBB/train-schedule-optimisation-challenge-starter-kit/raw/master/utils/img/graph-111.png)"
   ]
  }
 ],
 "metadata": {
  "kernelspec": {
   "display_name": "Python 3",
   "language": "python",
   "name": "python3"
  },
  "language_info": {
   "codemirror_mode": {
    "name": "ipython",
    "version": 3
   },
   "file_extension": ".py",
   "mimetype": "text/x-python",
   "name": "python",
   "nbconvert_exporter": "python",
   "pygments_lexer": "ipython3",
   "version": "3.6.5"
  }
 },
 "nbformat": 4,
 "nbformat_minor": 1
}
