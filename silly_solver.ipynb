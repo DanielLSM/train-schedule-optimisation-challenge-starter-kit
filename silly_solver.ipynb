{
 "cells": [
  {
   "cell_type": "markdown",
   "metadata": {
    "collapsed": true
   },
   "source": [
    "# Describes the interface of a Sample Solver Instance"
   ]
  },
  {
   "cell_type": "markdown",
   "metadata": {},
   "source": [
    "_Note: For full compatibility, use Python >= 3.6 to run this notebook._"
   ]
  },
  {
   "cell_type": "markdown",
   "metadata": {},
   "source": [
    "We describe a Solver that consumes a problem instance and \"calculates\" a solution. Here, \"calculate\" actually means it just reads sample solution that are saved in an archive.\n",
    "\n",
    "The Solver also does a sample submission, triggering the grader"
   ]
  },
  {
   "cell_type": "markdown",
   "metadata": {},
   "source": [
    "## The Solver class"
   ]
  },
  {
   "cell_type": "markdown",
   "metadata": {},
   "source": [
    "_Note: The SillySolver class is also available [here]_ TODO: Insert Hyperlink"
   ]
  },
  {
   "cell_type": "code",
   "execution_count": 4,
   "metadata": {},
   "outputs": [],
   "source": [
    "import requests\n",
    "import pathlib\n",
    "import time\n",
    "\n",
    "\n",
    "class SillySolver:\n",
    "\n",
    "    AUTH = ('ebrown', 'plutonium94')\n",
    "    PROBLEM_INSTANCE_HASH_ENDPOINT = \"https://fluxer.app.sbb.ch/backend/verkehrsplan/calculateHash\"\n",
    "    EMPTY_SOLUTION = \"{}\"\n",
    "\n",
    "    @staticmethod\n",
    "    def solve(problem_instance):\n",
    "        hash_ = SillySolver._get_problem_instance_hash(problem_instance)\n",
    "        print(f\"Solving {problem_instance} with hash {hash_}\")\n",
    "        solution = SillySolver._get_canned_sample_solution(problem_instance)\n",
    "        return hash_, solution\n",
    "        \n",
    "    @staticmethod\n",
    "    def _get_problem_instance_hash(problem_instance):\n",
    "        problem_instance = {\"verkehrsplan\": open(problem_instance, 'rb')}\n",
    "        return requests.post(url=SillySolver.PROBLEM_INSTANCE_HASH_ENDPOINT,\n",
    "                             files=problem_instance,\n",
    "                             auth=SillySolver.AUTH).json()\n",
    "    \n",
    "    @staticmethod\n",
    "    def _get_canned_sample_solution(problem_instance):\n",
    "        print(f\"calculating solution for {problem_instance}\")\n",
    "        filename = pathlib.Path(problem_instance).name\n",
    "\n",
    "        time.sleep(2)\n",
    "        try:\n",
    "            canned_solution = pathlib.Path(\"samples/problem_instances/sample_solutions\") / (\"solution_\" + filename)\n",
    "            print(f\"I have saved the solution to {canned_solution}\")\n",
    "        except:\n",
    "            print(f\"couldn't find solution for {problem_instance}\")\n",
    "            return SillySolver.EMPTY_SOLUTION\n",
    "        else:\n",
    "            return canned_solution"
   ]
  },
  {
   "cell_type": "markdown",
   "metadata": {},
   "source": [
    "The solver is used by a script that drives the execution. The script is available [here] TODO! Insert Hyperlink"
   ]
  },
  {
   "cell_type": "markdown",
   "metadata": {},
   "source": [
    "### Solving a single problem instance"
   ]
  },
  {
   "cell_type": "code",
   "execution_count": 5,
   "metadata": {},
   "outputs": [
    {
     "name": "stdout",
     "output_type": "stream",
     "text": [
      "Solving samples/problem_instances/01_dummy.json with hash 759370455 \n",
      " ...\n",
      "calculating solution for samples/problem_instances/01_dummy.json\n",
      "I have saved the solution to samples\\problem_instances\\sample_solutions\\solution_01_dummy.json\n"
     ]
    },
    {
     "data": {
      "text/plain": [
       "(759370455,\n",
       " WindowsPath('samples/problem_instances/sample_solutions/solution_01_dummy.json'))"
      ]
     },
     "execution_count": 5,
     "metadata": {},
     "output_type": "execute_result"
    }
   ],
   "source": [
    "problem_instance = \"samples/problem_instances/01_dummy.json\"\n",
    "\n",
    "mySolver = SillySolver()\n",
    "mySolver.solve(problem_instance)"
   ]
  },
  {
   "cell_type": "markdown",
   "metadata": {},
   "source": [
    "### Let's put together a complete solution set"
   ]
  },
  {
   "cell_type": "code",
   "execution_count": 7,
   "metadata": {},
   "outputs": [
    {
     "name": "stdout",
     "output_type": "stream",
     "text": [
      "Solving C:\\devsbb\\workspaces\\pas-crowdai\\samples\\problem_instances\\01_dummy.json with hash 759370455 \n",
      " ...\n",
      "calculating solution for C:\\devsbb\\workspaces\\pas-crowdai\\samples\\problem_instances\\01_dummy.json\n",
      "I have saved the solution to samples\\problem_instances\\sample_solutions\\solution_01_dummy.json\n",
      "***************************************\n",
      "Solving C:\\devsbb\\workspaces\\pas-crowdai\\samples\\problem_instances\\02_a_little_less_dummy.json with hash 910955293 \n",
      " ...\n",
      "calculating solution for C:\\devsbb\\workspaces\\pas-crowdai\\samples\\problem_instances\\02_a_little_less_dummy.json\n",
      "I have saved the solution to samples\\problem_instances\\sample_solutions\\solution_02_a_little_less_dummy.json\n",
      "***************************************\n",
      "Solving C:\\devsbb\\workspaces\\pas-crowdai\\samples\\problem_instances\\03_FWA_0.125.json with hash 934543999 \n",
      " ...\n",
      "calculating solution for C:\\devsbb\\workspaces\\pas-crowdai\\samples\\problem_instances\\03_FWA_0.125.json\n",
      "I have saved the solution to samples\\problem_instances\\sample_solutions\\solution_03_FWA_0.125.json\n",
      "***************************************\n",
      "Solving C:\\devsbb\\workspaces\\pas-crowdai\\samples\\problem_instances\\04_V1.02_FWA_without_obstruction.json with hash 1425217907 \n",
      " ...\n",
      "calculating solution for C:\\devsbb\\workspaces\\pas-crowdai\\samples\\problem_instances\\04_V1.02_FWA_without_obstruction.json\n",
      "I have saved the solution to samples\\problem_instances\\sample_solutions\\solution_04_V1.02_FWA_without_obstruction.json\n",
      "***************************************\n",
      "Solving C:\\devsbb\\workspaces\\pas-crowdai\\samples\\problem_instances\\05_V1.02_FWA_with_obstruction.json with hash -488200811 \n",
      " ...\n",
      "calculating solution for C:\\devsbb\\workspaces\\pas-crowdai\\samples\\problem_instances\\05_V1.02_FWA_with_obstruction.json\n",
      "I have saved the solution to samples\\problem_instances\\sample_solutions\\solution_05_V1.02_FWA_with_obstruction.json\n",
      "***************************************\n",
      "Solving C:\\devsbb\\workspaces\\pas-crowdai\\samples\\problem_instances\\06_V1.20_FWA.json with hash -1601737247 \n",
      " ...\n",
      "calculating solution for C:\\devsbb\\workspaces\\pas-crowdai\\samples\\problem_instances\\06_V1.20_FWA.json\n",
      "I have saved the solution to samples\\problem_instances\\sample_solutions\\solution_06_V1.20_FWA.json\n",
      "***************************************\n",
      "Solving C:\\devsbb\\workspaces\\pas-crowdai\\samples\\problem_instances\\07_V1.22_FWA.json with hash -1799980237 \n",
      " ...\n",
      "calculating solution for C:\\devsbb\\workspaces\\pas-crowdai\\samples\\problem_instances\\07_V1.22_FWA.json\n",
      "I have saved the solution to samples\\problem_instances\\sample_solutions\\solution_07_V1.22_FWA.json\n",
      "***************************************\n",
      "Solving C:\\devsbb\\workspaces\\pas-crowdai\\samples\\problem_instances\\08_V1.30_FWA.json with hash -1187628662 \n",
      " ...\n",
      "calculating solution for C:\\devsbb\\workspaces\\pas-crowdai\\samples\\problem_instances\\08_V1.30_FWA.json\n",
      "I have saved the solution to samples\\problem_instances\\sample_solutions\\solution_08_V1.30_FWA.json\n",
      "***************************************\n"
     ]
    }
   ],
   "source": [
    "directory = pathlib.Path.cwd()/\"samples\"/\"problem_instances\"\n",
    "problem_instances = directory.glob('*.json')\n",
    "\n",
    "solution_list = list()\n",
    "\n",
    "for problem_instance in problem_instances:\n",
    "    (hash_, sol) = mySolver.solve(problem_instance)\n",
    "    print(\"***************************************\")\n",
    "    solution_entry = dict(instance_hash=hash_,\n",
    "                          solution_path=sol)\n",
    "    solution_list.append(solution_entry)"
   ]
  },
  {
   "cell_type": "code",
   "execution_count": 8,
   "metadata": {},
   "outputs": [
    {
     "name": "stdout",
     "output_type": "stream",
     "text": [
      "[{'instance_hash': 759370455,\n",
      "  'solution_path': WindowsPath('samples/problem_instances/sample_solutions/solution_01_dummy.json')},\n",
      " {'instance_hash': 910955293,\n",
      "  'solution_path': WindowsPath('samples/problem_instances/sample_solutions/solution_02_a_little_less_dummy.json')},\n",
      " {'instance_hash': 934543999,\n",
      "  'solution_path': WindowsPath('samples/problem_instances/sample_solutions/solution_03_FWA_0.125.json')},\n",
      " {'instance_hash': 1425217907,\n",
      "  'solution_path': WindowsPath('samples/problem_instances/sample_solutions/solution_04_V1.02_FWA_without_obstruction.json')},\n",
      " {'instance_hash': -488200811,\n",
      "  'solution_path': WindowsPath('samples/problem_instances/sample_solutions/solution_05_V1.02_FWA_with_obstruction.json')},\n",
      " {'instance_hash': -1601737247,\n",
      "  'solution_path': WindowsPath('samples/problem_instances/sample_solutions/solution_06_V1.20_FWA.json')},\n",
      " {'instance_hash': -1799980237,\n",
      "  'solution_path': WindowsPath('samples/problem_instances/sample_solutions/solution_07_V1.22_FWA.json')},\n",
      " {'instance_hash': -1187628662,\n",
      "  'solution_path': WindowsPath('samples/problem_instances/sample_solutions/solution_08_V1.30_FWA.json')}]\n"
     ]
    }
   ],
   "source": [
    "from pprint import pprint\n",
    "pprint(solution_list)"
   ]
  },
  {
   "cell_type": "code",
   "execution_count": null,
   "metadata": {},
   "outputs": [],
   "source": []
  },
  {
   "cell_type": "code",
   "execution_count": null,
   "metadata": {},
   "outputs": [],
   "source": []
  },
  {
   "cell_type": "code",
   "execution_count": null,
   "metadata": {},
   "outputs": [],
   "source": []
  }
 ],
 "metadata": {
  "kernelspec": {
   "display_name": "Python 3",
   "language": "python",
   "name": "python3"
  },
  "language_info": {
   "codemirror_mode": {
    "name": "ipython",
    "version": 3
   },
   "file_extension": ".py",
   "mimetype": "text/x-python",
   "name": "python",
   "nbconvert_exporter": "python",
   "pygments_lexer": "ipython3",
   "version": "3.6.5"
  }
 },
 "nbformat": 4,
 "nbformat_minor": 1
}
