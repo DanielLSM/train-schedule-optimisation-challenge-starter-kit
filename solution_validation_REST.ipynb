{
 "cells": [
  {
   "cell_type": "markdown",
   "metadata": {
    "collapsed": true
   },
   "source": [
    "# Individual solution validation via the REST-API of the Solution Validator Service"
   ]
  },
  {
   "cell_type": "markdown",
   "metadata": {},
   "source": [
    "_Note: For full compatibility, use Python >= 3.6 to run this notebook._"
   ]
  },
  {
   "cell_type": "markdown",
   "metadata": {},
   "source": [
    "The REST-API of the Solution Validator can be used to check\n",
    "* whether a solution respects all required planning rules (and if not, where exactly the violoations are)\n",
    "* the objectiveValue of a solution\n",
    "\n",
    "It thus provides a shortcut to the complete submission-procedure (where you are required to submit a full set of solutions for all problem instances) to validate individual solutions.\n",
    "\n",
    "This makes frequent testing and tuning of your algorithm much easiere.\n",
    "\n",
    "_However: Please observe a limit of at most one (1) validation per minute in order not to overwhelm the service_"
   ]
  },
  {
   "cell_type": "markdown",
   "metadata": {},
   "source": [
    "## Examples"
   ]
  },
  {
   "cell_type": "markdown",
   "metadata": {},
   "source": [
    "_Note: The following code is also collected in_ [this](validate_solution.py) _script_"
   ]
  },
  {
   "cell_type": "markdown",
   "metadata": {},
   "source": [
    "Setup config:"
   ]
  },
  {
   "cell_type": "code",
   "execution_count": 1,
   "metadata": {},
   "outputs": [],
   "source": [
    "import requests\n",
    "\n",
    "AUTH = ('ebrown', 'plutonium94')\n",
    "SCENARIO_UPLOAD_ENDPOINT = \"https://fluxer.app.sbb.ch/backend/verkehrsplan/uploadVerkehrsplan\"\n",
    "SOLUTION_VALIDATION_ENDPOINT = \"https://fluxer.app.sbb.ch/backend/loesung-validator/validateFile\""
   ]
  },
  {
   "cell_type": "markdown",
   "metadata": {},
   "source": [
    "Specify the files to use. Validating a solution only makes sense when also specifying which problem instance the solution is intended for. So we specify both the problem instance and the solution. Both must be available as a JSON file."
   ]
  },
  {
   "cell_type": "code",
   "execution_count": 2,
   "metadata": {},
   "outputs": [],
   "source": [
    "scenario = \"samples/sample_scenario_simple.json\"\n",
    "solution = \"samples/sample_scenario_simple_solution.json\""
   ]
  },
  {
   "cell_type": "markdown",
   "metadata": {},
   "source": [
    "Upload the scenario file first."
   ]
  },
  {
   "cell_type": "markdown",
   "metadata": {},
   "source": [
    "### ToDo: We must make sure that the has in the scenario file is correct. Put in an assertion"
   ]
  },
  {
   "cell_type": "code",
   "execution_count": 4,
   "metadata": {},
   "outputs": [
    {
     "data": {
      "text/plain": [
       "<Response [200]>"
      ]
     },
     "execution_count": 4,
     "metadata": {},
     "output_type": "execute_result"
    }
   ],
   "source": [
    "scenario_file = {\"verkehrsplan\": open(scenario, 'rb')}\n",
    "upload_response = requests.post(SCENARIO_UPLOAD_ENDPOINT, files=scenario_file, auth=AUTH)\n",
    "upload_response"
   ]
  },
  {
   "cell_type": "markdown",
   "metadata": {},
   "source": [
    "Now we can validate"
   ]
  },
  {
   "cell_type": "code",
   "execution_count": 5,
   "metadata": {},
   "outputs": [],
   "source": [
    "solution_file = {\"loesung\": open(solution, 'rb')}\n",
    "validation_response = requests.post(SOLUTION_VALIDATION_ENDPOINT, files=solution_file, auth=AUTH)\n",
    "validation_result = validation_response.json()"
   ]
  },
  {
   "cell_type": "markdown",
   "metadata": {},
   "source": [
    "Inspect the response. The rule violations are collected in the attribute `regelVerletzungen`"
   ]
  },
  {
   "cell_type": "code",
   "execution_count": 6,
   "metadata": {},
   "outputs": [
    {
     "name": "stdout",
     "output_type": "stream",
     "text": [
      "solution has 0 warnings\n",
      "solution has 0 errors\n"
     ]
    }
   ],
   "source": [
    "warnings = [x for x in validation_result[\"regelVerletzungen\"] if x[\"severity\"] == \"warning\"]\n",
    "errors = [x for x in validation_result[\"regelVerletzungen\"] if x[\"severity\"] == \"error\"]\n",
    "print(f\"solution has {len(warnings)} warnings\")\n",
    "print(f\"solution has {len(errors)} errors\")"
   ]
  },
  {
   "cell_type": "markdown",
   "metadata": {},
   "source": [
    "### Example: Warning \"wrong Hash in solution\""
   ]
  },
  {
   "cell_type": "markdown",
   "metadata": {},
   "source": [
    "The following solution has a wrong solution hash. This causes a warning, but it is irrelevant. Also, the solution is not penalized because of this. objValue is zero.\n",
    "\n",
    "__you may safely ignore all solution-hash warnings in your solutions__"
   ]
  },
  {
   "cell_type": "code",
   "execution_count": 7,
   "metadata": {},
   "outputs": [],
   "source": [
    "solution = \"samples/sample_scenario_simple_solution_warningHash.json\"\n",
    "solution_file = {\"loesung\": open(solution, 'rb')}\n",
    "validation_response = requests.post(SOLUTION_VALIDATION_ENDPOINT, files=solution_file, auth=AUTH)\n",
    "validation_result = validation_response.json()\n",
    "\n",
    "assert len(validation_result[\"regelVerletzungen\"]) == 1\n"
   ]
  },
  {
   "cell_type": "markdown",
   "metadata": {},
   "source": [
    "### Example: Warning \"delayed arrival\""
   ]
  },
  {
   "cell_type": "code",
   "execution_count": 9,
   "metadata": {},
   "outputs": [
    {
     "name": "stdout",
     "output_type": "stream",
     "text": [
      "{'details': {'Fahrwegpenalty': '0.0', 'Verspaetungsminuten': '8.65'},\n",
      " 'loesungHash': -250799109,\n",
      " 'objectiveValue': 8.65,\n",
      " 'regelVerletzungen': [{'message': 'Austrittszeit 08:50:39 nach ausMax 08:42 '\n",
      "                                   'für Zugfahrtabschnitt mit FAB-Id '\n",
      "                                   '\"PF_SA/IC#17\" und Abschnittskennzeichen '\n",
      "                                   '\"MELS\" in fA \"IC/559-001/PF-SA\"',\n",
      "                        'severity': 'warning'}],\n",
      " 'requestUuid': None}\n"
     ]
    }
   ],
   "source": [
    "solution = \"samples/sample_scenario_simple_solution_delayed_arrival.json\"\n",
    "solution_file = {\"loesung\": open(solution, 'rb')}\n",
    "validation_response = requests.post(SOLUTION_VALIDATION_ENDPOINT, files=solution_file, auth=AUTH)\n",
    "validation_result = validation_response.json()\n",
    "\n",
    "from pprint import pprint\n",
    "pprint(validation_result)"
   ]
  },
  {
   "cell_type": "markdown",
   "metadata": {},
   "source": [
    "### Example: Errors \"early departure\" and \"resource occupation conflict\""
   ]
  },
  {
   "cell_type": "markdown",
   "metadata": {},
   "source": [
    "This solution has actual _errors_. It will _not_ be accepted as a feasible solution by the grader. There are two errors:\n",
    "* The service intentions \"EC/163-001/PF-SA\" and \"IC/913-001/PF-SA\" overtake each other on the route section PF_SA/IC#17. This (obviously) violates the separation constraints for the associated resource \"MELS_SA\"\n",
    "* Service Intention EC/163-001/PF-SA enters into route section PF_SA/IC#1 at 09:00:30. This is _before_ the earliest allowed entry time of 09:02:30.\n",
    "\n",
    "Note: In addition, there is also a warning because train IC/913-001/PF-SA arrives too late."
   ]
  },
  {
   "cell_type": "code",
   "execution_count": 8,
   "metadata": {},
   "outputs": [
    {
     "name": "stdout",
     "output_type": "stream",
     "text": [
      "There are 2 errors\n",
      "\n",
      "Belegungskonflikt (Zugfolgezeit gleiche Richtung: MELS_SA), Zugfolgezeit[s]: 180, Ressource: \"MELS_SA\", fAs: \"EC/163-001/PF-SA\" / \"IC/913-001/PF-SA\", FABs: \"PF_SA/IC#17\" / \"PF_SA/IC#17\", Zeiten ein-aus: 09:33:36.600-09:35:39 / 09:00:36.600-09:40:39\n",
      "\n",
      "Eintrittszeit 09:00:30 vor einMin 09:02:30 für Zugfahrtabschnitt mit FAB-Id \"PF_SA/IC#1\" und Abschnittskennzeichen \"PF\" in fA \"EC/163-001/PF-SA\"\n",
      "\n"
     ]
    }
   ],
   "source": [
    "solution = \"samples/sample_scenario_simple_solution_errors.json\"\n",
    "solution_file = {\"loesung\": open(solution, 'rb')}\n",
    "validation_response = requests.post(SOLUTION_VALIDATION_ENDPOINT, files=solution_file, auth=AUTH)\n",
    "validation_result = validation_response.json()\n",
    "errors = [x for x in validation_result['regelVerletzungen'] if x['severity'] == 'error']\n",
    "\n",
    "print(f\"There are {len(errors)} errors\" + \"\\n\")\n",
    "\n",
    "for x in validation_result[\"regelVerletzungen\"]:\n",
    "    if x[\"severity\"] == 'error':\n",
    "        print(x[\"message\"] + '\\n')"
   ]
  },
  {
   "cell_type": "code",
   "execution_count": null,
   "metadata": {},
   "outputs": [],
   "source": []
  },
  {
   "cell_type": "code",
   "execution_count": null,
   "metadata": {},
   "outputs": [],
   "source": []
  },
  {
   "cell_type": "code",
   "execution_count": null,
   "metadata": {},
   "outputs": [],
   "source": []
  }
 ],
 "metadata": {
  "kernelspec": {
   "display_name": "Python 3",
   "language": "python",
   "name": "python3"
  },
  "language_info": {
   "codemirror_mode": {
    "name": "ipython",
    "version": 3
   },
   "file_extension": ".py",
   "mimetype": "text/x-python",
   "name": "python",
   "nbconvert_exporter": "python",
   "pygments_lexer": "ipython3",
   "version": "3.6.5"
  }
 },
 "nbformat": 4,
 "nbformat_minor": 1
}
